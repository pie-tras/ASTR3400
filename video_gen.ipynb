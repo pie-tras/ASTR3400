{
 "cells": [
  {
   "cell_type": "code",
   "execution_count": 19,
   "metadata": {},
   "outputs": [
    {
     "name": "stdout",
     "output_type": "stream",
     "text": [
      "['cc_000050.png']\n",
      "['cc_000050.png', 'cc_000100.png', 'cc_000150.png', 'cc_000200.png', 'cc_000250.png', 'cc_000300.png', 'cc_000350.png', 'cc_000400.png', 'cc_000450.png', 'cc_000500.png', 'cc_000528.png']\n",
      "['cc_000050.png', 'cc_000100.png']\n",
      "['cc_000150.png', 'cc_000200.png', 'cc_000250.png', 'cc_000300.png', 'cc_000350.png', 'cc_000400.png', 'cc_000450.png', 'cc_000500.png']\n",
      "['cc_000050.png', 'cc_000100.png']\n",
      "['cc_000150.png', 'cc_000200.png', 'cc_000250.png', 'cc_000300.png']\n",
      "851 567\n"
     ]
    }
   ],
   "source": [
    "import cv2\n",
    "import os\n",
    "import numpy as np\n",
    "\n",
    "def get_images(paths):\n",
    "    loaded = []\n",
    "    for path in paths:\n",
    "        images = [img for img in os.listdir(path) if img.endswith(\".png\")]\n",
    "        print(images)\n",
    "        for img in images:\n",
    "            loaded.append(cv2.imread(os.path.join(path, img)))\n",
    "        \n",
    "    #loaded = np.array(loaded)\n",
    "    return loaded\n",
    "\n",
    "def generate_video(images, video_name):\n",
    "    frame = images[0]\n",
    "    height, width, layers = frame.shape\n",
    "    print(width, height)\n",
    "\n",
    "    video = cv2.VideoWriter(video_name, cv2.VideoWriter_fourcc(*'DIVX'), 1, (width, height))\n",
    "\n",
    "    for img in images:\n",
    "        video.write(img)\n",
    "\n",
    "    video.release()\n",
    "    cv2.destroyAllWindows()\n",
    "\n",
    "paths = [\n",
    "    'LOGS_FULL_0.2/plots/1_zams',\n",
    "    'LOGS_FULL_0.2/plots/2_he',\n",
    "    'LOGS_FULL_0.2/plots/3_envelope',\n",
    "    'LOGS_FULL_0.2/plots/4_c',\n",
    "    'LOGS_FULL_0.2/plots/5_convert',\n",
    "    'LOGS_FULL_0.2/plots/6_finish',\n",
    "         ]\n",
    "images = get_images(paths)\n",
    "generate_video(images, 'full_burn_0d2.mp4')"
   ]
  },
  {
   "cell_type": "code",
   "execution_count": null,
   "metadata": {},
   "outputs": [],
   "source": []
  }
 ],
 "metadata": {
  "kernelspec": {
   "display_name": "Python 3",
   "language": "python",
   "name": "python3"
  },
  "language_info": {
   "codemirror_mode": {
    "name": "ipython",
    "version": 3
   },
   "file_extension": ".py",
   "mimetype": "text/x-python",
   "name": "python",
   "nbconvert_exporter": "python",
   "pygments_lexer": "ipython3",
   "version": "3.10.11"
  }
 },
 "nbformat": 4,
 "nbformat_minor": 2
}
