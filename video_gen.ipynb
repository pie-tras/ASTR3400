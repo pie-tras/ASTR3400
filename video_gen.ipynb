{
 "cells": [
  {
   "cell_type": "code",
   "execution_count": null,
   "metadata": {},
   "outputs": [],
   "source": [
    "import cv2\n",
    "import os\n",
    "import numpy as np\n",
    "import imageio\n",
    "\n",
    "def get_images(paths):\n",
    "    loaded = []\n",
    "    for path in paths:\n",
    "        images = [img for img in os.listdir(path) if img.endswith(\".png\")]\n",
    "        print(images)\n",
    "        for img in images:\n",
    "            loaded.append(cv2.imread(os.path.join(path, img)))\n",
    "        \n",
    "    #loaded = np.array(loaded)\n",
    "    return loaded\n",
    "\n",
    "def generate_video(images, video_name):\n",
    "    frame = images[0]\n",
    "    height, width, layers = frame.shape\n",
    "    print(width, height)\n",
    "\n",
    "    video = cv2.VideoWriter(video_name, cv2.VideoWriter_fourcc(*'DIVX'), 1, (width, height))\n",
    "\n",
    "    for img in images:\n",
    "        video.write(img)\n",
    "\n",
    "    video.release()\n",
    "    cv2.destroyAllWindows()\n",
    "\n",
    "def to_gif(video_name):\n",
    "    cap = cv2.VideoCapture(video_name)\n",
    "    frames = []\n",
    "\n",
    "    while True:\n",
    "        ret, frame = cap.read()\n",
    "        if not ret:\n",
    "            break\n",
    "\n",
    "        frame = cv2.cvtColor(frame, cv2.COLOR_BGR2RGB)\n",
    "        frames.append(frame)\n",
    "\n",
    "    cap.release()\n",
    "    imageio.mimsave(video_name.replace(\".mp4\", \".gif\"), frames, fps=1, loop=0)"
   ]
  },
  {
   "cell_type": "code",
   "execution_count": null,
   "metadata": {},
   "outputs": [],
   "source": [
    "paths = [\n",
    "    'LOGS_FULL_0.2/plots/1_zams',\n",
    "    'LOGS_FULL_0.2/plots/2_he',\n",
    "    'LOGS_FULL_0.2/plots/3_envelope',\n",
    "    'LOGS_FULL_0.2/plots/4_c',\n",
    "    'LOGS_FULL_0.2/plots/5_convert',\n",
    "    'LOGS_FULL_0.2/plots/6_finish',\n",
    "         ]\n",
    "images = get_images(paths)\n",
    "generate_video(images, 'full_burn_0d2.mp4')"
   ]
  },
  {
   "cell_type": "code",
   "execution_count": 22,
   "metadata": {},
   "outputs": [
    {
     "name": "stdout",
     "output_type": "stream",
     "text": [
      "['hr_000050.png', 'hr_000100.png', 'hr_000150.png', 'hr_000200.png', 'hr_000250.png', 'hr_000300.png', 'hr_000350.png', 'hr_000400.png', 'hr_000450.png', 'hr_000500.png', 'hr_000528.png']\n",
      "['abund_000050.png', 'abund_000100.png', 'abund_000150.png', 'abund_000200.png', 'abund_000250.png', 'abund_000300.png', 'abund_000350.png', 'abund_000400.png', 'abund_000450.png', 'abund_000500.png', 'abund_000528.png']\n",
      "['power_000050.png', 'power_000100.png', 'power_000150.png', 'power_000200.png', 'power_000250.png', 'power_000300.png', 'power_000350.png', 'power_000400.png', 'power_000450.png', 'power_000500.png', 'power_000528.png']\n",
      "851 639\n",
      "851 639\n",
      "851 639\n"
     ]
    }
   ],
   "source": [
    "log = \"LOGS_ROT_0.2\"\n",
    "\n",
    "paths = [\n",
    "    log + \"/plots/hr\",\n",
    "    log + \"/plots/abundance\",\n",
    "    log + \"/plots/power\"\n",
    "]\n",
    "\n",
    "prefix = \"ROT_0.2_\"\n",
    "\n",
    "names = [\n",
    "    \"hr\",\n",
    "    \"abundance\",\n",
    "    \"power\"\n",
    "]\n",
    "\n",
    "image_series = []\n",
    "\n",
    "for path in paths:\n",
    "    image_series.append(get_images([path]))\n",
    "\n",
    "for i in range(len(image_series)):\n",
    "    series = image_series[i]\n",
    "    name = prefix + names[i] + \".mp4\"\n",
    "    generate_video(series, name)\n",
    "    to_gif(name)"
   ]
  },
  {
   "cell_type": "code",
   "execution_count": null,
   "metadata": {},
   "outputs": [],
   "source": []
  }
 ],
 "metadata": {
  "kernelspec": {
   "display_name": "Python 3",
   "language": "python",
   "name": "python3"
  },
  "language_info": {
   "codemirror_mode": {
    "name": "ipython",
    "version": 3
   },
   "file_extension": ".py",
   "mimetype": "text/x-python",
   "name": "python",
   "nbconvert_exporter": "python",
   "pygments_lexer": "ipython3",
   "version": "3.10.11"
  }
 },
 "nbformat": 4,
 "nbformat_minor": 2
}
